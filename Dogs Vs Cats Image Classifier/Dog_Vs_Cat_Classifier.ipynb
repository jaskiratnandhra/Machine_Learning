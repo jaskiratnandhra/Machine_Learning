{
 "cells": [
  {
   "cell_type": "markdown",
   "metadata": {},
   "source": [
    "# Image Classifier using Neural Network"
   ]
  },
  {
   "cell_type": "code",
   "execution_count": 5,
   "metadata": {},
   "outputs": [],
   "source": [
    "## Importing Libaries\n",
    "import tensorflow as tf\n",
    "import os\n",
    "import numpy as np\n",
    "from PIL import Image\n",
    "from tensorflow.keras.optimizers import RMSprop\n",
    "from tensorflow.keras.preprocessing.image import ImageDataGenerator"
   ]
  },
  {
   "cell_type": "code",
   "execution_count": 2,
   "metadata": {},
   "outputs": [],
   "source": [
    "## Model Creation\n",
    "model=tf.keras.models.Sequential([\n",
    "        tf.keras.layers.Conv2D(16,(3,3),activation='relu',input_shape=(150,150,3)),\n",
    "        tf.keras.layers.MaxPool2D(2,2),\n",
    "        tf.keras.layers.Conv2D(32,(3,3),activation='relu'),\n",
    "        tf.keras.layers.MaxPool2D(2,2),\n",
    "        tf.keras.layers.Conv2D(64,(3,3),activation='relu'),\n",
    "        tf.keras.layers.MaxPool2D(2,2),\n",
    "        tf.keras.layers.Flatten(),\n",
    "  tf.keras.layers.Dense(512, activation='relu'),\n",
    "  \n",
    "  tf.keras.layers.Dense(1, activation='sigmoid')\n",
    "])"
   ]
  },
  {
   "cell_type": "code",
   "execution_count": 3,
   "metadata": {},
   "outputs": [
    {
     "name": "stdout",
     "output_type": "stream",
     "text": [
      "Model: \"sequential\"\n",
      "_________________________________________________________________\n",
      "Layer (type)                 Output Shape              Param #   \n",
      "=================================================================\n",
      "conv2d (Conv2D)              (None, 148, 148, 16)      448       \n",
      "_________________________________________________________________\n",
      "max_pooling2d (MaxPooling2D) (None, 74, 74, 16)        0         \n",
      "_________________________________________________________________\n",
      "conv2d_1 (Conv2D)            (None, 72, 72, 32)        4640      \n",
      "_________________________________________________________________\n",
      "max_pooling2d_1 (MaxPooling2 (None, 36, 36, 32)        0         \n",
      "_________________________________________________________________\n",
      "conv2d_2 (Conv2D)            (None, 34, 34, 64)        18496     \n",
      "_________________________________________________________________\n",
      "max_pooling2d_2 (MaxPooling2 (None, 17, 17, 64)        0         \n",
      "_________________________________________________________________\n",
      "flatten (Flatten)            (None, 18496)             0         \n",
      "_________________________________________________________________\n",
      "dense (Dense)                (None, 512)               9470464   \n",
      "_________________________________________________________________\n",
      "dense_1 (Dense)              (None, 1)                 513       \n",
      "=================================================================\n",
      "Total params: 9,494,561\n",
      "Trainable params: 9,494,561\n",
      "Non-trainable params: 0\n",
      "_________________________________________________________________\n"
     ]
    }
   ],
   "source": [
    "model.summary()\n"
   ]
  },
  {
   "cell_type": "code",
   "execution_count": 4,
   "metadata": {},
   "outputs": [],
   "source": [
    "model.compile(loss='binary_crossentropy',optimizer=RMSprop(lr=0.001),metrics=['acc'])\n"
   ]
  },
  {
   "cell_type": "code",
   "execution_count": 6,
   "metadata": {},
   "outputs": [
    {
     "name": "stdout",
     "output_type": "stream",
     "text": [
      "Found 25000 images belonging to 2 classes.\n",
      "Found 12500 images belonging to 1 classes.\n"
     ]
    }
   ],
   "source": [
    "train_datagen=ImageDataGenerator(rescale=1/255)\n",
    "test_datagen=ImageDataGenerator(rescale=1/255)\n",
    "train_dir='C:/Users/Dell/Desktop/code/train'\n",
    "train_generator=train_datagen.flow_from_directory(train_dir,target_size=(150,150),batch_size=20,class_mode='binary')\n",
    "test_dir='C:/Users/Dell/Desktop/code/test1'\n",
    "validation_generator=train_datagen.flow_from_directory(test_dir,target_size=(150,150),batch_size=20,class_mode='binary')"
   ]
  },
  {
   "cell_type": "code",
   "execution_count": 7,
   "metadata": {},
   "outputs": [
    {
     "name": "stdout",
     "output_type": "stream",
     "text": [
      "WARNING:tensorflow:From <ipython-input-7-074f01a9c6c8>:1: Model.fit_generator (from tensorflow.python.keras.engine.training) is deprecated and will be removed in a future version.\n",
      "Instructions for updating:\n",
      "Please use Model.fit, which supports generators.\n",
      "WARNING:tensorflow:sample_weight modes were coerced from\n",
      "  ...\n",
      "    to  \n",
      "  ['...']\n",
      "WARNING:tensorflow:sample_weight modes were coerced from\n",
      "  ...\n",
      "    to  \n",
      "  ['...']\n",
      "Train for 100 steps, validate for 50 steps\n",
      "Epoch 1/15\n",
      "100/100 - 31s - loss: 0.8281 - acc: 0.5540 - val_loss: 0.6666 - val_acc: 0.5530\n",
      "Epoch 2/15\n",
      "100/100 - 32s - loss: 0.6875 - acc: 0.6230 - val_loss: 0.8017 - val_acc: 0.4770\n",
      "Epoch 3/15\n",
      "100/100 - 30s - loss: 0.6334 - acc: 0.6540 - val_loss: 0.7616 - val_acc: 0.5920\n",
      "Epoch 4/15\n",
      "100/100 - 31s - loss: 0.6160 - acc: 0.6705 - val_loss: 0.6534 - val_acc: 0.6850\n",
      "Epoch 5/15\n",
      "100/100 - 31s - loss: 0.5901 - acc: 0.6840 - val_loss: 0.9181 - val_acc: 0.4860\n",
      "Epoch 6/15\n",
      "100/100 - 32s - loss: 0.5691 - acc: 0.7140 - val_loss: 0.7501 - val_acc: 0.5760\n",
      "Epoch 7/15\n",
      "100/100 - 32s - loss: 0.5777 - acc: 0.6995 - val_loss: 1.0970 - val_acc: 0.4510\n",
      "Epoch 8/15\n",
      "100/100 - 32s - loss: 0.5356 - acc: 0.7410 - val_loss: 1.2069 - val_acc: 0.5650\n",
      "Epoch 9/15\n",
      "100/100 - 32s - loss: 0.5531 - acc: 0.7360 - val_loss: 0.9788 - val_acc: 0.5110\n",
      "Epoch 10/15\n",
      "100/100 - 32s - loss: 0.5136 - acc: 0.7470 - val_loss: 1.1244 - val_acc: 0.4320\n",
      "Epoch 11/15\n",
      "100/100 - 32s - loss: 0.4870 - acc: 0.7595 - val_loss: 1.3796 - val_acc: 0.4820\n",
      "Epoch 12/15\n",
      "100/100 - 31s - loss: 0.4981 - acc: 0.7655 - val_loss: 1.2395 - val_acc: 0.4680\n",
      "Epoch 13/15\n",
      "100/100 - 31s - loss: 0.4811 - acc: 0.7670 - val_loss: 1.2997 - val_acc: 0.4760\n",
      "Epoch 14/15\n",
      "100/100 - 31s - loss: 0.4741 - acc: 0.7870 - val_loss: 0.9641 - val_acc: 0.5280\n",
      "Epoch 15/15\n",
      "100/100 - 32s - loss: 0.4865 - acc: 0.7810 - val_loss: 0.8947 - val_acc: 0.6570\n"
     ]
    }
   ],
   "source": [
    "history=model.fit_generator(train_generator,steps_per_epoch=100,epochs=15,validation_data=validation_generator,validation_steps=50,verbose=2)"
   ]
  },
  {
   "cell_type": "code",
   "execution_count": 12,
   "metadata": {},
   "outputs": [
    {
     "name": "stdout",
     "output_type": "stream",
     "text": [
      "Its a cat\n"
     ]
    }
   ],
   "source": [
    "#prediction\n",
    "path='C:/Users/Dell/Desktop/code/test1/test/12244.jpg'\n",
    "img=Image.open(path)\n",
    "img.show()\n",
    "img=img.resize((150,150))\n",
    "x=np.array(img)\n",
    "x=np.expand_dims(x, axis=0)\n",
    "images=np.vstack([x])\n",
    "classes=model.predict(images,batch_size=10)\n",
    "if(classes[0]>0):\n",
    "    print(\"Its a dog\")\n",
    "else:\n",
    "    print(\"Its a cat\")"
   ]
  },
  {
   "cell_type": "code",
   "execution_count": null,
   "metadata": {},
   "outputs": [],
   "source": []
  }
 ],
 "metadata": {
  "kernelspec": {
   "display_name": "Python 3",
   "language": "python",
   "name": "python3"
  },
  "language_info": {
   "codemirror_mode": {
    "name": "ipython",
    "version": 3
   },
   "file_extension": ".py",
   "mimetype": "text/x-python",
   "name": "python",
   "nbconvert_exporter": "python",
   "pygments_lexer": "ipython3",
   "version": "3.7.4"
  }
 },
 "nbformat": 4,
 "nbformat_minor": 2
}
