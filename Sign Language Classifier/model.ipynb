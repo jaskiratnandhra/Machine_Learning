{
 "cells": [
  {
   "cell_type": "markdown",
   "metadata": {},
   "source": [
    "# CNN Sign Language MNIST Model"
   ]
  },
  {
   "cell_type": "code",
   "execution_count": null,
   "metadata": {},
   "outputs": [],
   "source": [
    "import csv\n",
    "import numpy as np\n",
    "import tensorflow as tf\n",
    "from tensorflow.keras.preprocessing.image import ImageDataGenerator\n",
    "from os import getcwd"
   ]
  },
  {
   "cell_type": "code",
   "execution_count": 3,
   "metadata": {},
   "outputs": [
    {
     "name": "stdout",
     "output_type": "stream",
     "text": [
      "(27455, 28, 28)\n",
      "(27455,)\n",
      "(7172, 28, 28)\n",
      "(7172,)\n"
     ]
    }
   ],
   "source": [
    "def get_data(filename):\n",
    "    with open(filename) as training_file:\n",
    "      \n",
    "        reader = csv.reader(training_file, delimiter=',')    \n",
    "        imgs = []\n",
    "        labels = []\n",
    "\n",
    "        next(reader, None)\n",
    "        \n",
    "        for row in reader:\n",
    "            label = row[0]\n",
    "            data = row[1:]\n",
    "            img = np.array(data).reshape((28, 28))\n",
    "\n",
    "            imgs.append(img)\n",
    "            labels.append(label)\n",
    "\n",
    "        images = np.array(imgs).astype(float)\n",
    "        labels = np.array(labels).astype(float)\n",
    "            \n",
    "    return images, labels\n",
    "      \n",
    "path_sign_mnist_train = \"C:/Users/Dell/Desktop/ML codes/Neural Network codes/Mnist Symbols/sign_mnist_train.csv\"\n",
    "path_sign_mnist_test = \"C:/Users/Dell/Desktop/ML codes/Neural Network codes/Mnist Symbols/sign_mnist_test.csv\"\n",
    "training_images, training_labels = get_data(path_sign_mnist_train)\n",
    "testing_images, testing_labels = get_data(path_sign_mnist_test)\n",
    "print(training_images.shape)\n",
    "print(training_labels.shape)\n",
    "print(testing_images.shape)\n",
    "print(testing_labels.shape)"
   ]
  },
  {
   "cell_type": "code",
   "execution_count": 4,
   "metadata": {},
   "outputs": [
    {
     "name": "stdout",
     "output_type": "stream",
     "text": [
      "(27455, 28, 28, 1)\n",
      "(7172, 28, 28, 1)\n"
     ]
    }
   ],
   "source": [
    "# In this section you will have to add another dimension to the data\n",
    "# So, for example, if your array is (10000, 28, 28)\n",
    "# You will need to make it (10000, 28, 28, 1)\n",
    "# Hint: np.expand_dims\n",
    "\n",
    "training_images = np.expand_dims(training_images, axis=3)\n",
    "testing_images = np.expand_dims(testing_images, axis=3)\n",
    "\n",
    "# Create an ImageDataGenerator and do Image Augmentation\n",
    "train_datagen = ImageDataGenerator(\n",
    "    rescale=1. / 255,\n",
    "    rotation_range=40,\n",
    "    width_shift_range=0.2,\n",
    "    height_shift_range=0.2,\n",
    "    shear_range=0.2,\n",
    "    zoom_range=0.2,\n",
    "    horizontal_flip=True,\n",
    "    fill_mode='nearest'\n",
    ")\n",
    "\n",
    "validation_datagen = ImageDataGenerator(\n",
    "    rescale=1 / 255\n",
    ")\n",
    "\n",
    "# Keep These\n",
    "print(training_images.shape)\n",
    "print(testing_images.shape)\n",
    "    \n",
    "# Their output should be:\n",
    "# (27455, 28, 28, 1)\n",
    "# (7172, 28, 28, 1)"
   ]
  },
  {
   "cell_type": "code",
   "execution_count": 10,
   "metadata": {},
   "outputs": [
    {
     "name": "stdout",
     "output_type": "stream",
     "text": [
      "WARNING:tensorflow:sample_weight modes were coerced from\n",
      "  ...\n",
      "    to  \n",
      "  ['...']\n",
      "WARNING:tensorflow:sample_weight modes were coerced from\n",
      "  ...\n",
      "    to  \n",
      "  ['...']\n",
      "Train for 429 steps, validate for 113 steps\n",
      "Epoch 1/14\n",
      "429/429 [==============================] - 9s 21ms/step - loss: 2.7946 - accuracy: 0.1539 - val_loss: 2.2356 - val_accuracy: 0.2762\n",
      "Epoch 2/14\n",
      "429/429 [==============================] - 9s 21ms/step - loss: 2.1455 - accuracy: 0.3225 - val_loss: 1.5013 - val_accuracy: 0.4699\n",
      "Epoch 3/14\n",
      "429/429 [==============================] - 10s 23ms/step - loss: 1.7429 - accuracy: 0.4401 - val_loss: 1.1150 - val_accuracy: 0.6106\n",
      "Epoch 4/14\n",
      "429/429 [==============================] - 11s 24ms/step - loss: 1.5024 - accuracy: 0.5139 - val_loss: 0.9185 - val_accuracy: 0.6828\n",
      "Epoch 5/14\n",
      "429/429 [==============================] - 11s 25ms/step - loss: 1.3187 - accuracy: 0.5700 - val_loss: 0.8913 - val_accuracy: 0.6587\n",
      "Epoch 6/14\n",
      "429/429 [==============================] - 11s 25ms/step - loss: 1.1776 - accuracy: 0.6163 - val_loss: 0.6976 - val_accuracy: 0.7579\n",
      "Epoch 7/14\n",
      "429/429 [==============================] - 11s 25ms/step - loss: 1.0669 - accuracy: 0.6503 - val_loss: 0.5865 - val_accuracy: 0.8028\n",
      "Epoch 8/14\n",
      "429/429 [==============================] - 11s 26ms/step - loss: 0.9741 - accuracy: 0.6782 - val_loss: 0.7611 - val_accuracy: 0.7260\n",
      "Epoch 9/14\n",
      "429/429 [==============================] - 12s 29ms/step - loss: 0.8991 - accuracy: 0.7038 - val_loss: 0.5597 - val_accuracy: 0.7980\n",
      "Epoch 10/14\n",
      "429/429 [==============================] - 12s 27ms/step - loss: 0.8328 - accuracy: 0.7238 - val_loss: 0.4929 - val_accuracy: 0.8238\n",
      "Epoch 11/14\n",
      "429/429 [==============================] - 12s 27ms/step - loss: 0.7710 - accuracy: 0.7467 - val_loss: 0.5173 - val_accuracy: 0.8115\n",
      "Epoch 12/14\n",
      "429/429 [==============================] - 12s 28ms/step - loss: 0.7231 - accuracy: 0.7585 - val_loss: 0.4671 - val_accuracy: 0.8392\n",
      "Epoch 13/14\n",
      "429/429 [==============================] - 12s 27ms/step - loss: 0.6844 - accuracy: 0.7730 - val_loss: 0.4168 - val_accuracy: 0.8569\n",
      "Epoch 14/14\n",
      "429/429 [==============================] - 12s 27ms/step - loss: 0.6466 - accuracy: 0.7871 - val_loss: 0.4282 - val_accuracy: 0.8509\n"
     ]
    },
    {
     "data": {
      "text/plain": [
       "[107.46693401634526, 0.6993865]"
      ]
     },
     "execution_count": 10,
     "metadata": {},
     "output_type": "execute_result"
    }
   ],
   "source": [
    "# Define the model\n",
    "# Use no more than 2 Conv2D and 2 MaxPooling2D\n",
    "model = tf.keras.models.Sequential([\n",
    "    tf.keras.layers.Conv2D(32, (3,3), activation='relu', input_shape=(28, 28, 1)),\n",
    "    tf.keras.layers.MaxPooling2D(2,2),\n",
    "    tf.keras.layers.Conv2D(32, (3,3), activation='relu'),\n",
    "    tf.keras.layers.MaxPooling2D(2,2),\n",
    "    tf.keras.layers.Flatten(),\n",
    "    tf.keras.layers.Dense(512, activation='relu'),\n",
    "    tf.keras.layers.Dense(26, activation='softmax')\n",
    "])\n",
    "\n",
    "# Compile Model. \n",
    "model.compile(\n",
    "    optimizer='adam',\n",
    "    loss='sparse_categorical_crossentropy',\n",
    "    metrics=['accuracy']\n",
    ")\n",
    "train_gen = train_datagen.flow(\n",
    "    training_images,\n",
    "    training_labels,\n",
    "    batch_size=64\n",
    ")\n",
    "\n",
    "val_gen = validation_datagen.flow(\n",
    "    testing_images,\n",
    "    testing_labels,\n",
    "    batch_size=64\n",
    ")\n",
    "\n",
    "# Train the Model\n",
    "history = model.fit_generator(train_gen,\n",
    "    epochs=14,\n",
    "    validation_data=val_gen\n",
    ")\n",
    "\n",
    "model.evaluate(testing_images, testing_labels, verbose=0)"
   ]
  },
  {
   "cell_type": "code",
   "execution_count": 11,
   "metadata": {},
   "outputs": [
    {
     "data": {
      "image/png": "[encoded data removed]",
      "text/plain": [
       "<Figure size 432x288 with 1 Axes>"
      ]
     },
     "metadata": {
      "needs_background": "light"
     },
     "output_type": "display_data"
    },
    {
     "data": {
      "image/png": "[encoded data removed]",
      "text/plain": [
       "<Figure size 432x288 with 1 Axes>"
      ]
     },
     "metadata": {
      "needs_background": "light"
     },
     "output_type": "display_data"
    }
   ],
   "source": [
    "import matplotlib.pyplot as plt\n",
    "\n",
    "acc = history.history['accuracy']\n",
    "val_acc = history.history['val_accuracy']\n",
    "loss = history.history['loss']\n",
    "val_loss = history.history['val_loss']\n",
    "\n",
    "epochs = range(len(acc))\n",
    "\n",
    "plt.plot(epochs, acc, 'r', label='Training accuracy')\n",
    "plt.plot(epochs, val_acc, 'b', label='Validation accuracy')\n",
    "plt.title('Training and validation accuracy')\n",
    "plt.legend()\n",
    "plt.figure()\n",
    "\n",
    "plt.plot(epochs, loss, 'r', label='Training Loss')\n",
    "plt.plot(epochs, val_loss, 'b', label='Validation Loss')\n",
    "plt.title('Training and validation loss')\n",
    "plt.legend()\n",
    "\n",
    "plt.show()"
   ]
  },
  {
   "cell_type": "code",
   "execution_count": 14,
   "metadata": {},
   "outputs": [],
   "source": [
    "model.save('sign_model.h5')"
   ]
  },
  {
   "cell_type": "code",
   "execution_count": null,
   "metadata": {},
   "outputs": [],
   "source": []
  }
 ],
 "metadata": {
  "kernelspec": {
   "display_name": "Python 3",
   "language": "python",
   "name": "python3"
  },
  "language_info": {
   "codemirror_mode": {
    "name": "ipython",
    "version": 3
   },
   "file_extension": ".py",
   "mimetype": "text/x-python",
   "name": "python",
   "nbconvert_exporter": "python",
   "pygments_lexer": "ipython3",
   "version": "3.7.4"
  }
 },
 "nbformat": 4,
 "nbformat_minor": 2
}
