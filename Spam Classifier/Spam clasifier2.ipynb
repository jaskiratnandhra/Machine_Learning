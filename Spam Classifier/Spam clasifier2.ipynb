{
 "cells": [
  {
   "cell_type": "code",
   "execution_count": 2,
   "metadata": {},
   "outputs": [],
   "source": [
    "#Import libraries\n",
    "import numpy as np \n",
    "import pandas as pd \n",
    "import nltk\n",
    "from nltk.corpus import stopwords\n",
    "import string"
   ]
  },
  {
   "cell_type": "code",
   "execution_count": 3,
   "metadata": {},
   "outputs": [
    {
     "data": {
      "text/html": [
       "<div>\n",
       "<style scoped>\n",
       "    .dataframe tbody tr th:only-of-type {\n",
       "        vertical-align: middle;\n",
       "    }\n",
       "\n",
       "    .dataframe tbody tr th {\n",
       "        vertical-align: top;\n",
       "    }\n",
       "\n",
       "    .dataframe thead th {\n",
       "        text-align: right;\n",
       "    }\n",
       "</style>\n",
       "<table border=\"1\" class=\"dataframe\">\n",
       "  <thead>\n",
       "    <tr style=\"text-align: right;\">\n",
       "      <th></th>\n",
       "      <th>Category</th>\n",
       "      <th>Message</th>\n",
       "    </tr>\n",
       "  </thead>\n",
       "  <tbody>\n",
       "    <tr>\n",
       "      <td>0</td>\n",
       "      <td>ham</td>\n",
       "      <td>Go until jurong point, crazy.. Available only ...</td>\n",
       "    </tr>\n",
       "    <tr>\n",
       "      <td>1</td>\n",
       "      <td>ham</td>\n",
       "      <td>Ok lar... Joking wif u oni...</td>\n",
       "    </tr>\n",
       "    <tr>\n",
       "      <td>2</td>\n",
       "      <td>spam</td>\n",
       "      <td>Free entry in 2 a wkly comp to win FA Cup fina...</td>\n",
       "    </tr>\n",
       "    <tr>\n",
       "      <td>3</td>\n",
       "      <td>ham</td>\n",
       "      <td>U dun say so early hor... U c already then say...</td>\n",
       "    </tr>\n",
       "    <tr>\n",
       "      <td>4</td>\n",
       "      <td>ham</td>\n",
       "      <td>Nah I don't think he goes to usf, he lives aro...</td>\n",
       "    </tr>\n",
       "  </tbody>\n",
       "</table>\n",
       "</div>"
      ],
      "text/plain": [
       "  Category                                            Message\n",
       "0      ham  Go until jurong point, crazy.. Available only ...\n",
       "1      ham                      Ok lar... Joking wif u oni...\n",
       "2     spam  Free entry in 2 a wkly comp to win FA Cup fina...\n",
       "3      ham  U dun say so early hor... U c already then say...\n",
       "4      ham  Nah I don't think he goes to usf, he lives aro..."
      ]
     },
     "execution_count": 3,
     "metadata": {},
     "output_type": "execute_result"
    }
   ],
   "source": [
    "df = pd.read_csv('SPAM_TEXT.csv')\n",
    "df.head(5)"
   ]
  },
  {
   "cell_type": "code",
   "execution_count": 4,
   "metadata": {},
   "outputs": [
    {
     "data": {
      "text/plain": [
       "(5572, 2)"
      ]
     },
     "execution_count": 4,
     "metadata": {},
     "output_type": "execute_result"
    }
   ],
   "source": [
    "df.shape\n"
   ]
  },
  {
   "cell_type": "code",
   "execution_count": 5,
   "metadata": {},
   "outputs": [
    {
     "data": {
      "text/plain": [
       "Index(['Category', 'Message'], dtype='object')"
      ]
     },
     "execution_count": 5,
     "metadata": {},
     "output_type": "execute_result"
    }
   ],
   "source": [
    "df.columns\n"
   ]
  },
  {
   "cell_type": "code",
   "execution_count": 6,
   "metadata": {},
   "outputs": [],
   "source": [
    "df.drop_duplicates(inplace = True)"
   ]
  },
  {
   "cell_type": "code",
   "execution_count": 7,
   "metadata": {},
   "outputs": [
    {
     "data": {
      "text/plain": [
       "(5157, 2)"
      ]
     },
     "execution_count": 7,
     "metadata": {},
     "output_type": "execute_result"
    }
   ],
   "source": [
    "df.shape\n"
   ]
  },
  {
   "cell_type": "code",
   "execution_count": 8,
   "metadata": {},
   "outputs": [
    {
     "data": {
      "text/plain": [
       "Category    0\n",
       "Message     0\n",
       "dtype: int64"
      ]
     },
     "execution_count": 8,
     "metadata": {},
     "output_type": "execute_result"
    }
   ],
   "source": [
    "df.isnull().sum()"
   ]
  },
  {
   "cell_type": "code",
   "execution_count": 9,
   "metadata": {},
   "outputs": [],
   "source": [
    "def process_text(text):\n",
    "    nopunc = [char for char in text if char not in string.punctuation]\n",
    "    nopunc = ''.join(nopunc)\n",
    "    clean_words = [word for word in nopunc.split() if word.lower() not in stopwords.words('english')]\n",
    "    return clean_words\n"
   ]
  },
  {
   "cell_type": "code",
   "execution_count": 10,
   "metadata": {},
   "outputs": [
    {
     "data": {
      "text/plain": [
       "0    [Go, jurong, point, crazy, Available, bugis, n...\n",
       "1                       [Ok, lar, Joking, wif, u, oni]\n",
       "2    [Free, entry, 2, wkly, comp, win, FA, Cup, fin...\n",
       "3        [U, dun, say, early, hor, U, c, already, say]\n",
       "4    [Nah, dont, think, goes, usf, lives, around, t...\n",
       "Name: Message, dtype: object"
      ]
     },
     "execution_count": 10,
     "metadata": {},
     "output_type": "execute_result"
    }
   ],
   "source": [
    "df['Message'].head().apply(process_text)"
   ]
  },
  {
   "cell_type": "code",
   "execution_count": 11,
   "metadata": {},
   "outputs": [],
   "source": [
    "from sklearn.feature_extraction.text import CountVectorizer\n",
    "messages_bow = CountVectorizer(analyzer=process_text).fit_transform(df['Message'])"
   ]
  },
  {
   "cell_type": "code",
   "execution_count": 12,
   "metadata": {},
   "outputs": [
    {
     "name": "stdout",
     "output_type": "stream",
     "text": [
      "  (0, 2058)\t1\n",
      "  (0, 7552)\t1\n",
      "  (0, 8914)\t1\n",
      "  (0, 5766)\t1\n",
      "  (0, 1107)\t1\n",
      "  (0, 5215)\t1\n",
      "  (0, 8333)\t1\n",
      "  (0, 6934)\t1\n",
      "  (0, 11160)\t1\n",
      "  (0, 7665)\t1\n",
      "  (0, 6214)\t1\n",
      "  (0, 5214)\t1\n",
      "  (0, 1480)\t1\n",
      "  (0, 6903)\t1\n",
      "  (0, 4651)\t1\n",
      "  (0, 10962)\t1\n",
      "  (1, 3062)\t1\n",
      "  (1, 7698)\t1\n",
      "  (1, 2449)\t1\n",
      "  (1, 11069)\t1\n",
      "  (1, 10695)\t1\n",
      "  (1, 8587)\t1\n",
      "  (2, 1939)\t1\n",
      "  (2, 6328)\t2\n",
      "  (2, 421)\t1\n",
      "  :\t:\n",
      "  (5153, 6879)\t1\n",
      "  (5153, 11415)\t1\n",
      "  (5153, 6688)\t1\n",
      "  (5153, 6351)\t1\n",
      "  (5154, 8249)\t1\n",
      "  (5154, 3226)\t1\n",
      "  (5154, 3719)\t1\n",
      "  (5154, 10196)\t1\n",
      "  (5155, 7797)\t1\n",
      "  (5155, 11003)\t1\n",
      "  (5155, 8417)\t1\n",
      "  (5155, 10784)\t1\n",
      "  (5155, 6696)\t1\n",
      "  (5155, 9912)\t1\n",
      "  (5155, 6279)\t1\n",
      "  (5155, 6796)\t1\n",
      "  (5155, 5248)\t1\n",
      "  (5155, 7391)\t1\n",
      "  (5155, 6981)\t1\n",
      "  (5155, 7284)\t1\n",
      "  (5155, 4506)\t1\n",
      "  (5155, 5052)\t1\n",
      "  (5156, 8345)\t1\n",
      "  (5156, 10645)\t1\n",
      "  (5156, 3429)\t1\n"
     ]
    }
   ],
   "source": [
    "print(messages_bow)"
   ]
  },
  {
   "cell_type": "code",
   "execution_count": 13,
   "metadata": {},
   "outputs": [],
   "source": [
    "from sklearn.model_selection import train_test_split\n",
    "X_train, X_test, y_train, y_test = train_test_split(messages_bow, df['Category'], test_size = 0.20, random_state = 0)"
   ]
  },
  {
   "cell_type": "code",
   "execution_count": 14,
   "metadata": {},
   "outputs": [
    {
     "data": {
      "text/plain": [
       "(5157, 11422)"
      ]
     },
     "execution_count": 14,
     "metadata": {},
     "output_type": "execute_result"
    }
   ],
   "source": [
    "messages_bow.shape\n"
   ]
  },
  {
   "cell_type": "code",
   "execution_count": 15,
   "metadata": {},
   "outputs": [
    {
     "name": "stdout",
     "output_type": "stream",
     "text": [
      "  (0, 2058)\t1\n",
      "  (0, 7552)\t1\n",
      "  (0, 8914)\t1\n",
      "  (0, 5766)\t1\n",
      "  (0, 1107)\t1\n",
      "  (0, 5215)\t1\n",
      "  (0, 8333)\t1\n",
      "  (0, 6934)\t1\n",
      "  (0, 11160)\t1\n",
      "  (0, 7665)\t1\n",
      "  (0, 6214)\t1\n",
      "  (0, 5214)\t1\n",
      "  (0, 1480)\t1\n",
      "  (0, 6903)\t1\n",
      "  (0, 4651)\t1\n",
      "  (0, 10962)\t1\n",
      "  (1, 3062)\t1\n",
      "  (1, 7698)\t1\n",
      "  (1, 2449)\t1\n",
      "  (1, 11069)\t1\n",
      "  (1, 10695)\t1\n",
      "  (1, 8587)\t1\n",
      "  (2, 1939)\t1\n",
      "  (2, 6328)\t2\n",
      "  (2, 421)\t1\n",
      "  :\t:\n",
      "  (5153, 6879)\t1\n",
      "  (5153, 11415)\t1\n",
      "  (5153, 6688)\t1\n",
      "  (5153, 6351)\t1\n",
      "  (5154, 8249)\t1\n",
      "  (5154, 3226)\t1\n",
      "  (5154, 3719)\t1\n",
      "  (5154, 10196)\t1\n",
      "  (5155, 7797)\t1\n",
      "  (5155, 11003)\t1\n",
      "  (5155, 8417)\t1\n",
      "  (5155, 10784)\t1\n",
      "  (5155, 6696)\t1\n",
      "  (5155, 9912)\t1\n",
      "  (5155, 6279)\t1\n",
      "  (5155, 6796)\t1\n",
      "  (5155, 5248)\t1\n",
      "  (5155, 7391)\t1\n",
      "  (5155, 6981)\t1\n",
      "  (5155, 7284)\t1\n",
      "  (5155, 4506)\t1\n",
      "  (5155, 5052)\t1\n",
      "  (5156, 8345)\t1\n",
      "  (5156, 10645)\t1\n",
      "  (5156, 3429)\t1\n"
     ]
    }
   ],
   "source": [
    "print(messages_bow)"
   ]
  },
  {
   "cell_type": "code",
   "execution_count": 16,
   "metadata": {},
   "outputs": [
    {
     "data": {
      "text/plain": [
       "MultinomialNB(alpha=1.0, class_prior=None, fit_prior=True)"
      ]
     },
     "execution_count": 16,
     "metadata": {},
     "output_type": "execute_result"
    }
   ],
   "source": [
    "from sklearn.naive_bayes import MultinomialNB\n",
    "classifier = MultinomialNB()\n",
    "classifier.fit(X_train, y_train)"
   ]
  },
  {
   "cell_type": "code",
   "execution_count": 17,
   "metadata": {},
   "outputs": [
    {
     "name": "stdout",
     "output_type": "stream",
     "text": [
      "['ham' 'spam' 'ham' ... 'ham' 'ham' 'ham']\n",
      "['ham' 'spam' 'ham' ... 'ham' 'ham' 'ham']\n"
     ]
    }
   ],
   "source": [
    "print(classifier.predict(X_train))\n",
    "#Print the actual values\n",
    "print(y_train.values)\n"
   ]
  },
  {
   "cell_type": "code",
   "execution_count": 18,
   "metadata": {},
   "outputs": [
    {
     "name": "stdout",
     "output_type": "stream",
     "text": [
      "              precision    recall  f1-score   support\n",
      "\n",
      "         ham       1.00      1.00      1.00      3619\n",
      "        spam       0.98      0.97      0.98       506\n",
      "\n",
      "    accuracy                           0.99      4125\n",
      "   macro avg       0.99      0.99      0.99      4125\n",
      "weighted avg       0.99      0.99      0.99      4125\n",
      "\n",
      "Confusion Matrix: \n",
      " [[3611    8]\n",
      " [  13  493]]\n",
      "\n",
      "Accuracy:  0.9949090909090909\n"
     ]
    }
   ],
   "source": [
    "from sklearn.metrics import classification_report,confusion_matrix, accuracy_score\n",
    "pred = classifier.predict(X_train)\n",
    "print(classification_report(y_train ,pred ))\n",
    "print('Confusion Matrix: \\n',confusion_matrix(y_train,pred))\n",
    "print()\n",
    "print('Accuracy: ', accuracy_score(y_train,pred))"
   ]
  },
  {
   "cell_type": "code",
   "execution_count": 19,
   "metadata": {},
   "outputs": [
    {
     "name": "stdout",
     "output_type": "stream",
     "text": [
      "Predicted value:  ['ham' 'ham' 'ham' ... 'ham' 'ham' 'ham']\n",
      "Actual value:  ['ham' 'ham' 'ham' ... 'ham' 'ham' 'ham']\n"
     ]
    }
   ],
   "source": [
    "print('Predicted value: ',classifier.predict(X_test))\n",
    "#Print Actual Label\n",
    "print('Actual value: ',y_test.values)"
   ]
  },
  {
   "cell_type": "code",
   "execution_count": 20,
   "metadata": {},
   "outputs": [
    {
     "name": "stdout",
     "output_type": "stream",
     "text": [
      "              precision    recall  f1-score   support\n",
      "\n",
      "         ham       0.99      0.97      0.98       897\n",
      "        spam       0.81      0.93      0.86       135\n",
      "\n",
      "    accuracy                           0.96      1032\n",
      "   macro avg       0.90      0.95      0.92      1032\n",
      "weighted avg       0.96      0.96      0.96      1032\n",
      "\n",
      "Confusion Matrix: \n",
      " [[867  30]\n",
      " [ 10 125]]\n",
      "\n",
      "Accuracy:  0.9612403100775194\n"
     ]
    }
   ],
   "source": [
    "from sklearn.metrics import classification_report,confusion_matrix, accuracy_score\n",
    "pred = classifier.predict(X_test)\n",
    "print(classification_report(y_test ,pred ))\n",
    "print('Confusion Matrix: \\n', confusion_matrix(y_test,pred))\n",
    "print()\n",
    "print('Accuracy: ', accuracy_score(y_test,pred))"
   ]
  },
  {
   "cell_type": "code",
   "execution_count": null,
   "metadata": {},
   "outputs": [],
   "source": []
  }
 ],
 "metadata": {
  "kernelspec": {
   "display_name": "Python 3",
   "language": "python",
   "name": "python3"
  },
  "language_info": {
   "codemirror_mode": {
    "name": "ipython",
    "version": 3
   },
   "file_extension": ".py",
   "mimetype": "text/x-python",
   "name": "python",
   "nbconvert_exporter": "python",
   "pygments_lexer": "ipython3",
   "version": "3.7.4"
  }
 },
 "nbformat": 4,
 "nbformat_minor": 2
}
