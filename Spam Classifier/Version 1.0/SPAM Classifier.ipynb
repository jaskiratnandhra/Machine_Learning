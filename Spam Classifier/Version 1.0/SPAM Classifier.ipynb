{
 "cells": [
  {
   "cell_type": "code",
   "execution_count": 1,
   "metadata": {},
   "outputs": [],
   "source": [
    "import string"
   ]
  },
  {
   "cell_type": "code",
   "execution_count": null,
   "metadata": {},
   "outputs": [],
   "source": [
    "def code():\n",
    "    x=str(input(\"ENTER THE EMAIL\"))\n",
    "    y=open(\"spam words.txt\",'r')\n",
    "    text=y.readlines()\n",
    "    for i in range(0,len(text)):\n",
    "        text[i]=text[i].rstrip()\n",
    "    text2=x.split()\n",
    "    c=0\n",
    "    for i in text2:\n",
    "        for j in text:\n",
    "            if(i==j):\n",
    "                c+=1\n",
    "    print(c)\n",
    "    z=c/len(text2)\n",
    "    print(z)\n",
    "    \n",
    "    if(z>0.011):\n",
    "        print(\"\\n\\n\\nSPAM\")\n",
    "    else:\n",
    "        print(\"NOT SPAM\")\n",
    "\n",
    "    y.close()\n",
    "code()"
   ]
  },
  {
   "cell_type": "code",
   "execution_count": 5,
   "metadata": {},
   "outputs": [
    {
     "name": "stdout",
     "output_type": "stream",
     "text": [
      "<class 'set'>\n"
     ]
    }
   ],
   "source": [
    "stopWords = set(stopwords.words(\"english\"))\n",
    "print(type(stopWords))"
   ]
  },
  {
   "cell_type": "code",
   "execution_count": null,
   "metadata": {},
   "outputs": [],
   "source": []
  }
 ],
 "metadata": {
  "kernelspec": {
   "display_name": "Python 3",
   "language": "python",
   "name": "python3"
  },
  "language_info": {
   "codemirror_mode": {
    "name": "ipython",
    "version": 3
   },
   "file_extension": ".py",
   "mimetype": "text/x-python",
   "name": "python",
   "nbconvert_exporter": "python",
   "pygments_lexer": "ipython3",
   "version": "3.7.4"
  }
 },
 "nbformat": 4,
 "nbformat_minor": 2
}
