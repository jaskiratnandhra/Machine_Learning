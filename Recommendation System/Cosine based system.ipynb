{
 "cells": [
  {
   "cell_type": "code",
   "execution_count": 17,
   "id": "e62f36c5",
   "metadata": {},
   "outputs": [
    {
     "name": "stdout",
     "output_type": "stream",
     "text": [
      "done!\n",
      "0    Recommending 2 products similar to M2Go X1...\n",
      "Name: NAME, dtype: object\n",
      "-------\n",
      "36    Recommended: Techo-Electra Raptor (score:0.295...\n",
      "38    Recommended: Techo-Electra Emerge (score:0.295...\n",
      "39    Recommended: M2Go Civitas (score:0.29596752671...\n",
      "Name: NAME, dtype: object\n",
      "34    Recommended: Ujaas eGo (score:0.0)\n",
      "35    Recommended: Ujaas eZY (score:0.0)\n",
      "Name: NAME, dtype: object\n"
     ]
    }
   ],
   "source": [
    "#for one criteria cosine_similarities\n",
    "\n",
    "\n",
    "\n",
    "import pandas as pd\n",
    "from sklearn.feature_extraction.text import TfidfVectorizer\n",
    "from sklearn.metrics.pairwise import linear_kernel\n",
    "\n",
    "ds = pd.read_csv(r\"C:\\Users\\Jaskirat\\Desktop\\study\\COLLEGE!!!!!!!!!!!!!!\\Internships\\SAR Group ( Lectrix ev )\\EV_Bazaar.csv\")\n",
    "\n",
    "tf = TfidfVectorizer(analyzer='word', ngram_range=(1, 3), min_df=0, stop_words='english')\n",
    "tfidf_matrix = tf.fit_transform(ds['NAME'])\n",
    "\n",
    "\n",
    "cosine_similarities = linear_kernel(tfidf_matrix, tfidf_matrix)\n",
    "\n",
    "results = {}\n",
    "\n",
    "for idx, row in ds.iterrows():\n",
    "    similar_indices = cosine_similarities[idx].argsort()[:-100:-1]\n",
    "    similar_items = [(cosine_similarities[idx][i], ds['Cost per Km'][i]) for i in similar_indices]\n",
    "\n",
    "    results[row['Cost per Km']] = similar_items[1:]\n",
    "    \n",
    "print('done!')\n",
    "\n",
    "def item(id):\n",
    "    return ds.loc[ds['Cost per Km'] == id]['NAME']\n",
    "\n",
    "# Just reads the results out of the dictionary.\n",
    "def recommend(item_id, num):\n",
    "    print(\"Recommending \" + str(num) + \" products similar to \" + item(item_id) + \"...\")\n",
    "    print(\"-------\")\n",
    "    recs = results[item_id][:num]\n",
    "    for rec in recs:\n",
    "        print(\"Recommended: \" + item(rec[1]) + \" (score:\" + str(rec[0]) + \")\")\n",
    "\n",
    "recommend(item_id=0.05005, num=2)\n"
   ]
  },
  {
   "cell_type": "code",
   "execution_count": null,
   "id": "2c79cdaa",
   "metadata": {},
   "outputs": [],
   "source": []
  }
 ],
 "metadata": {
  "kernelspec": {
   "display_name": "Python 3 (ipykernel)",
   "language": "python",
   "name": "python3"
  },
  "language_info": {
   "codemirror_mode": {
    "name": "ipython",
    "version": 3
   },
   "file_extension": ".py",
   "mimetype": "text/x-python",
   "name": "python",
   "nbconvert_exporter": "python",
   "pygments_lexer": "ipython3",
   "version": "3.8.12"
  }
 },
 "nbformat": 4,
 "nbformat_minor": 5
}
