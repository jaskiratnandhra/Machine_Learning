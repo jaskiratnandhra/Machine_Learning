{
 "cells": [
  {
   "cell_type": "markdown",
   "metadata": {},
   "source": [
    "# Text Sumarization Using PorterStemmer Model"
   ]
  },
  {
   "cell_type": "markdown",
   "metadata": {},
   "source": [
    "## Fetching the Data"
   ]
  },
  {
   "cell_type": "code",
   "execution_count": 10,
   "metadata": {
    "scrolled": true
   },
   "outputs": [
    {
     "name": "stdout",
     "output_type": "stream",
     "text": [
      "The 20th (twentieth) century was a century that began on\n",
      "January 1, 1901[1] and ended on December 31, 2000.[2] It was the tenth and final century of the 2nd millennium. Strictly speaking, it is distinct from the century known as the 1900s which began on January 1, 1900, and ended on December 31, 1999.\n",
      "The 20th century was dominated by a chain of events that heralded significant changes in world history as to redefine the era: flu pandemic, World War I and World War II, nuclear power and space exploration, nationalism and decolonization, the Cold War and post-Cold War conflicts; intergovernmental organizations and cultural homogenization through developments in emerging transportation and communications technology; poverty reduction and world population growth, awareness of environmental degradation, ecological extinction;[3][4] and the birth of the Digital Revolution, enabled by the wide adoption of MOS transistors and integrated circuits. It saw great advances in power generation, communication and medical technology that by the late 1980s allowed for near-instantaneous worldwide computer communication and genetic modification of life.\n",
      "The 20th century saw the largest transformation of the world order since the Fall of Rome: global total fertility rates, sea level rise and ecological collapses increased; the resulting competition for land and dwindling resources accelerated deforestation, water depletion, and the mass extinction of many of the world's species and decline in the population of others; consequences which are now being dealt with. The average global temperature on Earth has increased by about 0.8° Celsius (1.4° Fahrenheit) since 1880; Two-thirds of the warming has occurred since 1975, at a rate of roughly 0.15-0.20 °C per decade.[5]\n",
      "The repercussions of the World Wars, Cold War and Globalization crafted a world where people are more united than any previous time in human history, as exemplified by the establishment of international law, international aid, and the United Nations. The Marshall Plan—which spent $13 billion ($100 billion in 2018 US dollars)[6] to rebuild the economies of post-war nations—launched \"Pax Americana\". Throughout the latter half of the 20th century, the rivalry between the United States and the Soviet Union created enormous tensions around the world which manifested in various armed conflicts and the omnipresent danger of nuclear proliferation. The dissolution of the Soviet Union in 1991 after the collapse of its European alliance was heralded by the West as the end of communism, though by the century's end roughly one in six people on Earth lived under communist rule, mostly in China which was rapidly rising as an economic and geopolitical power. \n",
      "It took over two-hundred thousand years of human history up to 1804 for the world's population to reach 1 billion;[7] world population reached an estimated 2 billion in 1927; by late 1999, the global population reached 6 billion.[8] Global literacy averaged 80%. Global campaigns for the eradication of smallpox and other diseases responsible for more human deaths than all natural disasters combined yielded unprecedented results; smallpox now only existed in labs. Trade improvements reversed the limited set of food-producing techniques used since the Neolithic period, greatly enhancing the diversity of foods available, resulting in an upturn in the quality of human nutrition. Up until a couple hundred years ago, life expectancy was about thirty in most populations; global lifespan-averages exceeded 40+ years for the first time in history, with over half achieving 70+ years (three decades longer than it was a century ago).[9]\n",
      "The century had the first global-scale total wars between world powers across continents and oceans in World War I and World War II. Nationalism became a major political issue in the world in the 20th century, acknowledged in international law along with the right of nations to self-determination, official decolonization in the mid-century, and related regional conflicts.\n",
      "The century saw a major shift in the way that many people lived, with changes in politics, ideology, economics, society, culture, science, technology, and medicine. The 20th century may have seen more technological and scientific progress than all the other centuries combined since the dawn of civilization. Terms like ideology, world war, genocide, and nuclear war entered common usage. Scientific discoveries, such as the theory of relativity and quantum physics, profoundly changed the foundational models of physical science, forcing scientists to realize that the universe was more complex than previously believed, and dashing the hopes (or fears) at the end of the 19th century that the last few details of scientific knowledge were about to be filled in. It was a century that started with horses, simple automobiles, and freighters but ended with high-speed rail, cruise ships, global commercial air travel and the Space Shuttle. Horses, Western society's basic form of personal transportation for thousands of years, were replaced by automobiles and buses within a few decades. These developments were made possible by the exploitation of fossil fuel resources, which offered energy in an easily portable form, but also caused concern about pollution and long-term impact on the environment. Humans explored space for the first time, taking their first footsteps on the Moon.\n",
      "Mass media, telecommunications, and information technology (especially computers, paperback books, public education, and the Internet) made the world's knowledge more widely available. Advancements in medical technology also improved the health of many people: the global life expectancy increased from 35 years to 65 years. Rapid technological advancements, however, also allowed warfare to reach unprecedented levels of destruction. World War II alone killed over 60 million people, while nuclear weapons gave humankind the means to annihilate itself in a short time. However, these same wars resulted in the destruction of the imperial system. For the first time in human history, empires and their wars of expansion and colonization ceased to be a factor in international affairs, resulting in a far more globalized and cooperative world. The last time major powers clashed openly was in 1945, and since then, violence has seen an unprecedented decline.[10]\n",
      "The world also became more culturally homogenized than ever with developments in transportation and communications technology, popular music and other influences of Western culture, international corporations, and what was arguably a truly global economy by the end of the 20th century.\n",
      "Technological advancements during World War I changed the way war was fought, as new inventions such as tanks, chemical weapons, and aircraft modified tactics and strategy.  After more than four years of trench warfare in Western Europe, and 20 million dead, the powers that had formed the Triple Entente (France, Britain, and Russia, later replaced by the United States and joined by Italy and Romania) emerged victorious over the Central Powers (Germany, Austria-Hungary, the Ottoman Empire and Bulgaria). In addition to annexing many of the colonial possessions of the vanquished states, the Triple Entente exacted punitive restitution payments from them, plunging Germany in particular into economic depression. The Austro-Hungarian and Ottoman empires were dismantled at the war's conclusion. The Russian Revolution resulted in the overthrow of the Tsarist regime of Nicholas II and the onset of the Russian Civil War. The victorious Bolsheviks then established the Soviet Union, the world's first communist state.\n",
      "At the beginning of the period, the British Empire was the world's most powerful nation,[12] having acted as the world's policeman for the past century. Fascism, a movement which grew out of post-war angst and which accelerated during the Great Depression of the 1930s, gained momentum in Italy, Germany, and Spain in the 1920s and 1930s, culminating in World War II, sparked by Nazi Germany's aggressive expansion at the expense of its neighbors. Meanwhile, Japan had rapidly transformed itself into a technologically advanced industrial power and, along with Germany and Italy, formed the Axis powers. Japan's military expansionism in East Asia and the Pacific Ocean brought it into conflict with the United States, culminating in a surprise attack which drew the US into World War II.  After some years of dramatic military success, Germany was defeated in 1945, having been invaded by the Soviet Union and Poland from the East and by the United States, the United Kingdom, Canada, and France from the West. After the victory of the Allies in Europe, the war in Asia ended with the dropping of two atomic bombs on Japan by the US, the first nation to develop nuclear weapons and the only one to use them in warfare. In total, World War II left some 60 million people dead. After the war, Germany was occupied and divided between the Western powers and the Soviet Union. East Germany and the rest of Eastern Europe became Soviet puppet states under communist rule. Western Europe was rebuilt with the aid of the American Marshall Plan, resulting in a major post-war economic boom, and many of the affected nations became close allies of the United States.\n",
      "With the Axis defeated and Britain and France rebuilding, the United States and the Soviet Union were left standing as the world's only superpowers. Allies during the war, they soon became hostile to one another as their competing ideologies of communism and democratic capitalism proliferated in Europe, which became divided by the Iron Curtain and the Berlin Wall. They formed competing military alliances (NATO and the Warsaw Pact) which engaged in a decades-long standoff known as the Cold War. The period was marked by a new arms race as the USSR became the second nation to develop nuclear weapons, which were produced by both sides in sufficient numbers to end most human life on the planet had a large-scale nuclear exchange ever occurred. Mutually assured destruction is credited by many historians as having prevented such an exchange, each side being unable to strike first at the other without ensuring an equally devastating retaliatory strike. Unable to engage one another directly, the conflict played out in a series of proxy wars around the world–particularly in China, Korea, Cuba, Vietnam, and Afghanistan–as the USSR sought to export communism while the US attempted to contain it. The technological competition between the two sides led to substantial investment in research and development which produced innovations that reached far beyond the battlefield, such as space exploration and the Internet.\n",
      "In the latter half of the century, most of the European-colonized world in Africa and Asia gained independence in a process of decolonization. Meanwhile, globalization opened the door for several nations to exert a strong influence over many world affairs. The US's global military presence spread American culture around the world with the advent of the Hollywood motion picture industry, Broadway, rock and roll, pop music, fast food, big-box stores, and the hip-hop lifestyle. Britain also continued to influence world culture, including the \"British Invasion\" into American music, leading many rock bands from other countries (such as Swedish ABBA) to sing in English. After the Soviet Union collapsed under internal pressure in 1991, most of the communist governments it had supported around the world were dismantled—with the notable exceptions of China, North Korea, Cuba, Vietnam, and Laos—followed by awkward transitions into market economies.\n",
      "Following World War II, the United Nations, successor to the League of Nations, was established as an international forum in which the world's nations could discuss issues diplomatically. It enacted resolutions on such topics as the conduct of warfare, environmental protection, international sovereignty, and human rights. Peacekeeping forces consisting of troops provided by various countries, with various United Nations and other aid agencies, helped to relieve famine, disease, and poverty, and to suppress some local armed conflicts. Europe slowly united, economically and, in some ways, politically, to form the European Union, which consisted of 15 European countries by the end of the 20th century.\n",
      "\n",
      "In the last third of the century, concern about humankind's impact on the Earth's environment made environmentalism popular. In many countries, especially in Europe, the movement was channeled into politics through Green parties. Increasing awareness of global warming began in the 1980s, commencing decades of social and political debate.Due to continuing industrialization and expanding trade, many significant changes of the century were, directly or indirectly, economic and technological in nature. Inventions such as the light bulb, the automobile, and the telephone in the late 19th century, followed by supertankers, airliners, motorways, radio, television, antibiotics, nuclear power, frozen food, computers and microcomputers, the Internet, and mobile telephones affected people's quality of life across the developed world. Scientific research, engineering professionalization and technological development—much of it motivated by the Cold War arms race—drove changes in everyday life.\n",
      "At the beginning of the century, strong discrimination based on race and sex was significant in general society. Although the Atlantic slave trade had ended in the 19th century, the fight for equality for non-white people in the white-dominated societies of North America, Europe, and South Africa continued. During the century, the social taboo of sexism fell. By the end of the 20th century, women had the same legal rights as men in many parts of the world, and racism had come to be seen as abhorrent.[13] Attitudes towards homosexuality also began to change in the later part of the century.\n",
      "Communications and information technology, transportation technology, and medical advances had radically altered daily lives. Europe appeared to be at a sustainable peace for the first time in recorded history. The people of the Indian subcontinent, a sixth of the world population at the end of the 20th century, had attained an indigenous independence for the first time in centuries. China, an ancient nation comprising a fifth of the world population, was finally open to the world, creating a new state after the near-complete destruction of the old cultural order. With the end of colonialism and the Cold War, nearly a billion people in Africa were left in new nation states after centuries of foreign domination.\n",
      "The world was undergoing its second major period of globalization; the first, which started in the 18th century, having been terminated by World War I. Since the US was in a dominant position, a major part of the process was Americanization. The influence of China and India was also rising, as the world's largest populations were rapidly integrating with the world economy.\n",
      "Terrorism, dictatorship, and the spread of nuclear weapons were pressing global issues. The world was still blighted by small-scale wars and other violent conflicts, fueled by competition over resources and by ethnic conflicts. Despots such as Kim Jong-il of North Korea continued to lead their nations toward the development of nuclear weapons.\n",
      "Disease threatened to destabilize many regions of the world.  New viruses such as SARS and West Nile continued to spread. Malaria and other diseases affected large populations.  Millions were infected with HIV, the virus which causes AIDS.  The virus was becoming an epidemic in southern Africa.\n",
      "Based on research done by climate scientists, the majority of the scientific community consider that in the long term environmental problems may threaten the planet's habitability.[14]  One argument is that of global warming occurring due to human-caused emission of greenhouse gases, particularly carbon dioxide produced by the burning of fossil fuels.[15]  This prompted many nations to negotiate and sign the Kyoto treaty, which set mandatory limits on carbon dioxide emissions.\n",
      "World population increased from about 1.6 billion people in 1901 to 6.1 billion at the century's end.[16][17]\n",
      "The number of people killed during the century by government actions was in the hundreds of millions. This includes deaths caused by wars, genocide, politicide and mass murders. The deaths from acts of war during the two world wars alone have been estimated at between 50 and 80 million[citation needed]. Political scientist Rudolph Rummel estimated 262,000,000 deaths caused by democide, which excludes those killed in war battles, civilians unintentionally killed in war and killings of rioting mobs.[18] According to Charles Tilly, \"Altogether, about 100 million people died as a direct result of action by organized military units backed by one government or another over the course of the century. Most likely a comparable number of civilians died of war-induced disease and other indirect effects.\"[19] It is estimated that approximately 70 million Europeans died through war, violence and famine between 1914 and 1945.[20]\n",
      "The invention of music recording technologies such as the phonograph record, and dissemination technologies such as radio broadcasting, massively expanded the audience for music.  Prior to the 20th century, music was generally only experienced in live performances.  Many new genres of music were established during the 20th century.\n",
      "The world's most popular / famous / revered music artists of the 20th century include : Louis Armstrong, Little Richard, Igor Stravinsky, Gustav Mahler, George Gershwin, Sergei Prokofiev, Benjamin Britten, Maurice Ravel, Arnold Schoenberg, Dmitri Shostakovich, Aaron Copland, Béla Bartók, Ernesto Lecuona, Sergei Rachmaninoff, Richard Strauss, Thelonious Monk, Ella Fitzgerald, Duke Ellington, Bing Crosby, ABBA, The Beach Boys, The Beatles, Harry Belafonte, Chuck Berry, James Brown, Miles Davis, Bob Dylan, Jimi Hendrix, Eagles, Michael Jackson, Elton John, Bee Gees, Barbra Streisand, Cher, Nat \"King\" Cole, Robert Johnson, Led Zeppelin, Leonard Cohen, Queen, Madonna, Bob Marley, Metallica, Charlie Parker, Pink Floyd, David Bowie, Elvis Presley, The Rolling Stones, Frank Sinatra, Stevie Wonder, Radiohead, Aretha Franklin, Tupac Shakur, Nirvana, The Notorious B.I.G., Amr Diab, Fairuz, Umm Kulthum, Abdel Halim Hafez, Randy Newman and many more.\n",
      "Film as an artistic medium was created in the 20th century.  The first modern movie theatre was established in Pittsburgh in 1905.[26] Hollywood developed as the center of American film production.  While the first films were in black and white, technicolor was developed in the 1920s to allow for color films. Sound films were developed, with the first full-length feature film, The Jazz Singer, released in 1927.  The Academy Awards were established in 1929. Animation was also developed in the 1920s, with the first full-length cel animated feature film Snow White and the Seven Dwarfs, released in 1937. CGI was developed in the 1980s, with the first full-length CGI animated film Toy Story was released in 1995.\n",
      "Video games—due to the great technological steps forward in computing since the second post-war period—are the new form of entertainment emerged in the 20th century alongside films.\n",
      "Multiple new fields of mathematics were developed in the 20th century.  In the first part of the 20th century, measure theory, functional analysis, and topology were established, and significant developments were made in fields such as abstract algebra and probability.  The development of set theory and formal logic led to Gödel's incompleteness theorems.\n",
      "Later in the 20th century, the development of computers led to the establishment of a theory of computation.[30]  Other computationally-intense results include the study of fractals[31] and a proof of the four color theorem in 1976.[32]\n",
      "One of the prominent traits of the 20th century was the dramatic growth of technology. Organized research and practice of science led to advancement in the fields of communication, electronics, engineering, travel, medicine, and war.\n",
      "A technological revolution began in the late 20th century, variously called the Digital Revolution, the information revolution,[37][38][39][40] the electronics revolution,[41] the microelectronic revolution,[42] the Information Age,[43] the silicon revolution,[44][45] the Silicon Age,[44][45][46] and/or the third industrial revolution.[47]\n",
      "\n"
     ]
    }
   ],
   "source": [
    "#importing libraries\n",
    "from nltk.corpus import stopwords\n",
    "from nltk.stem import PorterStemmer\n",
    "from nltk.tokenize import word_tokenize, sent_tokenize\n",
    "import bs4 as BeautifulSoup\n",
    "import urllib.request  \n",
    "\n",
    "#fetching the content from the URL\n",
    "fetched_data = urllib.request.urlopen('https://en.wikipedia.org/wiki/20th_century')\n",
    "\n",
    "article_read = fetched_data.read()\n",
    "\n",
    "#parsing the URL content and storing in a variable\n",
    "article_parsed = BeautifulSoup.BeautifulSoup(article_read,'html.parser')\n",
    "\n",
    "#returning <p> tags\n",
    "paragraphs = article_parsed.find_all('p')\n",
    "\n",
    "article_content = ''\n",
    "\n",
    "#looping through the paragraphs and adding them to the variable\n",
    "for p in paragraphs:  \n",
    "    article_content += p.text\n",
    "print(article_content)"
   ]
  },
  {
   "cell_type": "markdown",
   "metadata": {},
   "source": [
    "## Creating the Frequency Table"
   ]
  },
  {
   "cell_type": "code",
   "execution_count": 11,
   "metadata": {},
   "outputs": [],
   "source": [
    "def _create_dictionary_table(text_string) -> dict:\n",
    "   \n",
    "    #removing stop words\n",
    "    stop_words = set(stopwords.words(\"english\"))\n",
    "    \n",
    "    words = word_tokenize(text_string)\n",
    "    \n",
    "    #reducing words to their root form\n",
    "    stem = PorterStemmer()\n",
    "    \n",
    "    #creating dictionary for the word frequency table\n",
    "    frequency_table = dict()\n",
    "    for wd in words:\n",
    "        wd = stem.stem(wd)\n",
    "        if wd in stop_words:\n",
    "            continue\n",
    "        if wd in frequency_table:\n",
    "            frequency_table[wd] += 1\n",
    "        else:\n",
    "            frequency_table[wd] = 1\n",
    "\n",
    "    return frequency_table\n",
    "    \n"
   ]
  },
  {
   "cell_type": "markdown",
   "metadata": {},
   "source": [
    "## Calculating the sentence score"
   ]
  },
  {
   "cell_type": "code",
   "execution_count": 12,
   "metadata": {},
   "outputs": [],
   "source": [
    "\n",
    "def _calculate_sentence_scores(sentences, frequency_table) -> dict:   \n",
    "\n",
    "    #algorithm for scoring a sentence by its words\n",
    "    sentence_weight = dict()\n",
    "\n",
    "    for sentence in sentences:\n",
    "        sentence_wordcount = (len(word_tokenize(sentence)))\n",
    "        sentence_wordcount_without_stop_words = 0\n",
    "        for word_weight in frequency_table:\n",
    "            if word_weight in sentence.lower():\n",
    "                sentence_wordcount_without_stop_words += 1\n",
    "                if sentence in sentence_weight:\n",
    "                    sentence_weight[sentence] += frequency_table[word_weight]\n",
    "                else:\n",
    "                    sentence_weight[sentence] = frequency_table[word_weight]\n",
    "\n",
    "        sentence_weight[sentence] = sentence_weight[sentence] / sentence_wordcount_without_stop_words\n",
    "\n",
    "       \n",
    "\n",
    "    return sentence_weight\n",
    "\n"
   ]
  },
  {
   "cell_type": "markdown",
   "metadata": {},
   "source": [
    "## Calculating the average score of sentences"
   ]
  },
  {
   "cell_type": "code",
   "execution_count": 13,
   "metadata": {},
   "outputs": [],
   "source": [
    "def _calculate_average_score(sentence_weight) -> int:\n",
    "   \n",
    "    #calculating the average score for the sentences\n",
    "    sum_values = 0\n",
    "    for entry in sentence_weight:\n",
    "        sum_values += sentence_weight[entry]\n",
    "\n",
    "    #getting sentence average value from source text\n",
    "    average_score = (sum_values / len(sentence_weight))\n",
    "\n",
    "    return average_score\n",
    "\n"
   ]
  },
  {
   "cell_type": "markdown",
   "metadata": {},
   "source": [
    "## Encapsulating Block"
   ]
  },
  {
   "cell_type": "code",
   "execution_count": 14,
   "metadata": {},
   "outputs": [
    {
     "name": "stdout",
     "output_type": "stream",
     "text": [
      " Terms like ideology, world war, genocide, and nuclear war entered common usage. Humans explored space for the first time, taking their first footsteps on the Moon. However, these same wars resulted in the destruction of the imperial system. The victorious Bolsheviks then established the Soviet Union, the world's first communist state. In total, World War II left some 60 million people dead. After the war, Germany was occupied and divided between the Western powers and the Soviet Union. During the century, the social taboo of sexism fell. Since the US was in a dominant position, a major part of the process was Americanization. Terrorism, dictatorship, and the spread of nuclear weapons were pressing global issues. Millions were infected with HIV, the virus which causes AIDS. This includes deaths caused by wars, genocide, politicide and mass murders. Later in the 20th century, the development of computers led to the establishment of a theory of computation.\n"
     ]
    }
   ],
   "source": [
    "def _get_article_summary(sentences, sentence_weight, threshold):\n",
    "    sentence_counter = 0\n",
    "    article_summary = ''\n",
    "\n",
    "    for sentence in sentences:\n",
    "        if sentence in sentence_weight and sentence_weight[sentence] >= (threshold):\n",
    "            article_summary += \" \" + sentence\n",
    "            sentence_counter += 1\n",
    "\n",
    "    return article_summary\n",
    "\n",
    "def _run_article_summary(article):\n",
    "    \n",
    "    #creating a dictionary for the word frequency table\n",
    "    frequency_table = _create_dictionary_table(article)\n",
    "\n",
    "    #tokenizing the sentences\n",
    "    sentences = sent_tokenize(article)\n",
    "\n",
    "    #algorithm for scoring a sentence by its words\n",
    "    sentence_scores = _calculate_sentence_scores(sentences, frequency_table)\n",
    "\n",
    "    #getting the threshold\n",
    "    threshold = _calculate_average_score(sentence_scores)\n",
    "\n",
    "    #producing the summary\n",
    "    article_summary = _get_article_summary(sentences, sentence_scores, 1.5 * threshold)\n",
    "\n",
    "    return article_summary\n",
    "\n",
    "if __name__ == '__main__':\n",
    "    summary_results = _run_article_summary(article_content)\n",
    "    print(summary_results)"
   ]
  },
  {
   "cell_type": "code",
   "execution_count": null,
   "metadata": {},
   "outputs": [],
   "source": []
  }
 ],
 "metadata": {
  "kernelspec": {
   "display_name": "Python 3",
   "language": "python",
   "name": "python3"
  },
  "language_info": {
   "codemirror_mode": {
    "name": "ipython",
    "version": 3
   },
   "file_extension": ".py",
   "mimetype": "text/x-python",
   "name": "python",
   "nbconvert_exporter": "python",
   "pygments_lexer": "ipython3",
   "version": "3.7.4"
  }
 },
 "nbformat": 4,
 "nbformat_minor": 4
}
